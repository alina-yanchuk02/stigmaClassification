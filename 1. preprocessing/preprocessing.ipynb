{
 "cells": [
  {
   "cell_type": "markdown",
   "metadata": {},
   "source": [
    "Automatic classification of stigmatizing mental illness articles in online news journals - April 2022 Author: Alina Yanchuk - alinayanchuk@ua.pt"
   ]
  },
  {
   "cell_type": "markdown",
   "metadata": {},
   "source": [
    "### Table of contents:\n",
    "\n",
    "* [1. Preprocessing](#chapter1)\n",
    "    * [1.1 Requirements](#section_1_1)\n",
    "    * [1.2 Imports](#section_1_2)\n",
    "    * [1.3 Get data](#section_1_3)\n",
    "    * [1.4 Process data](#section_1_4)"
   ]
  },
  {
   "cell_type": "markdown",
   "metadata": {},
   "source": [
    "# 1. Preprocessing <a class=\"anchor\" id=\"chapter1\"></a>\n",
    "\n",
    "Data cleaning/preparation for the next tasks - Classification, Topic Modeling and Exploratory Data Analysis."
   ]
  },
  {
   "cell_type": "markdown",
   "metadata": {},
   "source": [
    "## 1.1 Requirements <a class=\"anchor\" id=\"section_1_1\"></a>"
   ]
  },
  {
   "cell_type": "code",
   "execution_count": 4,
   "metadata": {},
   "outputs": [
    {
     "name": "stdout",
     "output_type": "stream",
     "text": [
      "Collecting pandas\n",
      "  Downloading pandas-1.4.1-cp38-cp38-manylinux_2_17_x86_64.manylinux2014_x86_64.whl (11.7 MB)\n",
      "\u001b[K     |████████████████████████████████| 11.7 MB 355 kB/s \n",
      "\u001b[?25hRequirement already satisfied: pytz>=2020.1 in /home/alina/anaconda3/lib/python3.8/site-packages (from pandas) (2021.3)\n",
      "Requirement already satisfied: numpy>=1.18.5 in /home/alina/anaconda3/lib/python3.8/site-packages (from pandas) (1.20.3)\n",
      "Requirement already satisfied: python-dateutil>=2.8.1 in /home/alina/anaconda3/lib/python3.8/site-packages (from pandas) (2.8.2)\n",
      "Requirement already satisfied: six>=1.5 in /home/alina/anaconda3/lib/python3.8/site-packages (from python-dateutil>=2.8.1->pandas) (1.16.0)\n",
      "Installing collected packages: pandas\n",
      "Successfully installed pandas-1.4.1\n",
      "Note: you may need to restart the kernel to use updated packages.\n"
     ]
    }
   ],
   "source": [
    "pip install pandas"
   ]
  },
  {
   "cell_type": "code",
   "execution_count": 5,
   "metadata": {},
   "outputs": [
    {
     "name": "stdout",
     "output_type": "stream",
     "text": [
      "Collecting nltk\n",
      "  Downloading nltk-3.7-py3-none-any.whl (1.5 MB)\n",
      "\u001b[K     |████████████████████████████████| 1.5 MB 3.0 MB/s \n",
      "\u001b[?25hRequirement already satisfied: joblib in /home/alina/anaconda3/lib/python3.8/site-packages (from nltk) (1.1.0)\n",
      "Requirement already satisfied: regex>=2021.8.3 in /home/alina/anaconda3/lib/python3.8/site-packages (from nltk) (2021.11.2)\n",
      "Requirement already satisfied: click in /home/alina/anaconda3/lib/python3.8/site-packages (from nltk) (8.0.4)\n",
      "Requirement already satisfied: tqdm in /home/alina/anaconda3/lib/python3.8/site-packages (from nltk) (4.62.3)\n",
      "Installing collected packages: nltk\n",
      "Successfully installed nltk-3.7\n",
      "Note: you may need to restart the kernel to use updated packages.\n"
     ]
    }
   ],
   "source": [
    "pip install --upgrade nltk"
   ]
  },
  {
   "cell_type": "markdown",
   "metadata": {},
   "source": [
    "## 1.2 Imports <a class=\"anchor\" id=\"section_1_2\"></a>"
   ]
  },
  {
   "cell_type": "code",
   "execution_count": 9,
   "metadata": {},
   "outputs": [
    {
     "name": "stderr",
     "output_type": "stream",
     "text": [
      "[nltk_data] Downloading package stopwords to /home/alina/nltk_data...\n",
      "[nltk_data]   Package stopwords is already up-to-date!\n"
     ]
    }
   ],
   "source": [
    "import pandas as pd\n",
    "\n",
    "import re\n",
    "import string\n",
    "\n",
    "import nltk\n",
    "nltk.download('stopwords')\n",
    "\n",
    "import os"
   ]
  },
  {
   "cell_type": "markdown",
   "metadata": {},
   "source": [
    "## 1.3 Get data <a class=\"anchor\" id=\"section_1_3\"></a>"
   ]
  },
  {
   "cell_type": "code",
   "execution_count": 10,
   "metadata": {},
   "outputs": [],
   "source": [
    "# Table only with news 'headline' and 'content'\n",
    "\n",
    "pd.set_option('max_colwidth',150)\n",
    "data = pd.read_csv ('data_labeled.csv')\n",
    "data_text_eda = data # data prepared for Exploratory Analysis Tasks\n",
    "\n",
    "data_text = data.loc[:, ['label', 'headline', 'content']] # data prepared for Classification tasks"
   ]
  },
  {
   "cell_type": "code",
   "execution_count": 11,
   "metadata": {},
   "outputs": [
    {
     "name": "stdout",
     "output_type": "stream",
     "text": [
      "label 0\n",
      "headline 0\n",
      "content 0\n"
     ]
    }
   ],
   "source": [
    "# Search for null values\n",
    "\n",
    "for col in data_text.columns:\n",
    "    print(col, data_text[col].isnull().sum())"
   ]
  },
  {
   "cell_type": "code",
   "execution_count": 12,
   "metadata": {},
   "outputs": [
    {
     "name": "stdout",
     "output_type": "stream",
     "text": [
      "Total number of news: 978\n"
     ]
    }
   ],
   "source": [
    "# Remove rows with null content\n",
    "\n",
    "data_text_eda = data_text_eda[data_text_eda['content'].notna()]\n",
    "data_text = data_text[data_text['content'].notna()]\n",
    "\n",
    "print(\"Total number of news: \" + str(len(data_text)))"
   ]
  },
  {
   "cell_type": "code",
   "execution_count": 13,
   "metadata": {},
   "outputs": [
    {
     "data": {
      "text/html": [
       "<div>\n",
       "<style scoped>\n",
       "    .dataframe tbody tr th:only-of-type {\n",
       "        vertical-align: middle;\n",
       "    }\n",
       "\n",
       "    .dataframe tbody tr th {\n",
       "        vertical-align: top;\n",
       "    }\n",
       "\n",
       "    .dataframe thead th {\n",
       "        text-align: right;\n",
       "    }\n",
       "</style>\n",
       "<table border=\"1\" class=\"dataframe\">\n",
       "  <thead>\n",
       "    <tr style=\"text-align: right;\">\n",
       "      <th></th>\n",
       "      <th>label</th>\n",
       "      <th>content</th>\n",
       "    </tr>\n",
       "  </thead>\n",
       "  <tbody>\n",
       "    <tr>\n",
       "      <th>0</th>\n",
       "      <td>literal</td>\n",
       "      <td>Prisão perpétua para homem que tentou assassinar senadora No dia 8 de Janeiro de 2011 Jared Loughner tentou matar, sem sucesso, a então senadora G...</td>\n",
       "    </tr>\n",
       "    <tr>\n",
       "      <th>1</th>\n",
       "      <td>literal</td>\n",
       "      <td>John Nash, matemático de Uma Mente Brilhante, morre em acidente John Nash, o matemático e Nobel da Economia que foi retratado por Russell Crowe no...</td>\n",
       "    </tr>\n",
       "    <tr>\n",
       "      <th>2</th>\n",
       "      <td>estigma</td>\n",
       "      <td>O mito da reeleição mínima garantida Cavaco sairá desta campanha pior do que entrou. Os casos das acções na SLN ou da casa de férias no Algarve nã...</td>\n",
       "    </tr>\n",
       "    <tr>\n",
       "      <th>3</th>\n",
       "      <td>literal</td>\n",
       "      <td>Morreu Rita Levi-Montalcini, a grande dama da ciência italiana A cientista e senadora italiana Rita Levi-Montalcini, Prémio Nobel da Medicina de 1...</td>\n",
       "    </tr>\n",
       "    <tr>\n",
       "      <th>4</th>\n",
       "      <td>literal</td>\n",
       "      <td>Por trás da porta amarela, há um homem com problemas psicológicos Pub  Ninguém sabe o que ele está a fazer. Ninguém sabe em que é que pensa, o que...</td>\n",
       "    </tr>\n",
       "  </tbody>\n",
       "</table>\n",
       "</div>"
      ],
      "text/plain": [
       "     label  \\\n",
       "0  literal   \n",
       "1  literal   \n",
       "2  estigma   \n",
       "3  literal   \n",
       "4  literal   \n",
       "\n",
       "                                                                                                                                                 content  \n",
       "0  Prisão perpétua para homem que tentou assassinar senadora No dia 8 de Janeiro de 2011 Jared Loughner tentou matar, sem sucesso, a então senadora G...  \n",
       "1  John Nash, matemático de Uma Mente Brilhante, morre em acidente John Nash, o matemático e Nobel da Economia que foi retratado por Russell Crowe no...  \n",
       "2  O mito da reeleição mínima garantida Cavaco sairá desta campanha pior do que entrou. Os casos das acções na SLN ou da casa de férias no Algarve nã...  \n",
       "3  Morreu Rita Levi-Montalcini, a grande dama da ciência italiana A cientista e senadora italiana Rita Levi-Montalcini, Prémio Nobel da Medicina de 1...  \n",
       "4  Por trás da porta amarela, há um homem com problemas psicológicos Pub  Ninguém sabe o que ele está a fazer. Ninguém sabe em que é que pensa, o que...  "
      ]
     },
     "execution_count": 13,
     "metadata": {},
     "output_type": "execute_result"
    }
   ],
   "source": [
    "# Join 'headline' and 'content'\n",
    "\n",
    "for index, row in data_text_eda.iterrows():\n",
    "    if isinstance(row['headline'], float): pass\n",
    "    else: \n",
    "        if row['headline'] not in row['content']: row['content'] = row['headline'] + ' ' + row['content']\n",
    "data_text_eda.drop('headline', axis = 1, inplace = True) # For EDA\n",
    "\n",
    "for index, row in data_text.iterrows():\n",
    "    if isinstance(row['headline'], float): pass\n",
    "    else: \n",
    "        if row['headline'] not in row['content']: row['content'] = row['headline'] + ' ' + row['content']\n",
    "data_text.drop('headline', axis = 1, inplace = True) # For Classification and TM\n",
    "data_text.head()"
   ]
  },
  {
   "cell_type": "markdown",
   "metadata": {},
   "source": [
    "## 1.4 Process data <a class=\"anchor\" id=\"section_1_4\"></a>"
   ]
  },
  {
   "cell_type": "code",
   "execution_count": 14,
   "metadata": {},
   "outputs": [
    {
     "data": {
      "text/html": [
       "<div>\n",
       "<style scoped>\n",
       "    .dataframe tbody tr th:only-of-type {\n",
       "        vertical-align: middle;\n",
       "    }\n",
       "\n",
       "    .dataframe tbody tr th {\n",
       "        vertical-align: top;\n",
       "    }\n",
       "\n",
       "    .dataframe thead th {\n",
       "        text-align: right;\n",
       "    }\n",
       "</style>\n",
       "<table border=\"1\" class=\"dataframe\">\n",
       "  <thead>\n",
       "    <tr style=\"text-align: right;\">\n",
       "      <th></th>\n",
       "      <th>label</th>\n",
       "      <th>content</th>\n",
       "    </tr>\n",
       "  </thead>\n",
       "  <tbody>\n",
       "    <tr>\n",
       "      <th>0</th>\n",
       "      <td>literal</td>\n",
       "      <td>prisão perpétua homem tentou assassinar senadora dia janeiro jared loughner tentou matar sucesso então senadora gabrielle giffords eleita partido ...</td>\n",
       "    </tr>\n",
       "    <tr>\n",
       "      <th>1</th>\n",
       "      <td>literal</td>\n",
       "      <td>john nash matemático mente brilhante morre acidente john nash matemático nobel economia retratado russell crowe filme mente brilhante morreu sábad...</td>\n",
       "    </tr>\n",
       "    <tr>\n",
       "      <th>2</th>\n",
       "      <td>estigma</td>\n",
       "      <td>mito reeleição mínima garantida cavaco sairá desta campanha pior entrou casos acções sln casa férias algarve revelaram qualquer ilegalidade pudess...</td>\n",
       "    </tr>\n",
       "    <tr>\n",
       "      <th>3</th>\n",
       "      <td>literal</td>\n",
       "      <td>morreu rita levintalcini grande dama ciência italiana cientista senadora italiana rita levintalcini prémio nobel medicina morreu neste domingo ano...</td>\n",
       "    </tr>\n",
       "    <tr>\n",
       "      <th>4</th>\n",
       "      <td>literal</td>\n",
       "      <td>trás porta amarela homem problemas psicológicos ninguém sabe fazer ninguém sabe pensa come sobrevive dois anos desde mulher pânico levou dois filh...</td>\n",
       "    </tr>\n",
       "  </tbody>\n",
       "</table>\n",
       "</div>"
      ],
      "text/plain": [
       "     label  \\\n",
       "0  literal   \n",
       "1  literal   \n",
       "2  estigma   \n",
       "3  literal   \n",
       "4  literal   \n",
       "\n",
       "                                                                                                                                                 content  \n",
       "0  prisão perpétua homem tentou assassinar senadora dia janeiro jared loughner tentou matar sucesso então senadora gabrielle giffords eleita partido ...  \n",
       "1  john nash matemático mente brilhante morre acidente john nash matemático nobel economia retratado russell crowe filme mente brilhante morreu sábad...  \n",
       "2  mito reeleição mínima garantida cavaco sairá desta campanha pior entrou casos acções sln casa férias algarve revelaram qualquer ilegalidade pudess...  \n",
       "3  morreu rita levintalcini grande dama ciência italiana cientista senadora italiana rita levintalcini prémio nobel medicina morreu neste domingo ano...  \n",
       "4  trás porta amarela homem problemas psicológicos ninguém sabe fazer ninguém sabe pensa come sobrevive dois anos desde mulher pânico levou dois filh...  "
      ]
     },
     "execution_count": 14,
     "metadata": {},
     "output_type": "execute_result"
    }
   ],
   "source": [
    "# Cleaning\n",
    "\n",
    "irrelevant = [\"pub\", \"pág\", \"reportagem\", \"clique\", \"subscrever\", \"partilhar\", \"dn\", \"tvi\", \"sic\", \"rtp\", \"cartaz\", \"tv\"] # list with irrelevant words/expressions do the news content\n",
    "\n",
    "stopwords = nltk.corpus.stopwords.words('portuguese') # pt stopwords\n",
    "\n",
    "sent_tokenizer = nltk.data.load('tokenizers/punkt/portuguese.pickle') # pt sentence tokenizer\n",
    "\n",
    "#nlp = stanza.Pipeline('pt') # pt stanza\n",
    "\n",
    "def clean_text(text):\n",
    "\n",
    "    text = text.lower() # lowercase\n",
    "    text = re.sub(r'http\\S+', '', text) # URLs removal\n",
    "    text = re.sub('\\[.*?\\]', '', text) # remove text in square brackets\n",
    "    text = re.sub(r\"\\([^()]*\\)\", '', text) # remove text within parentheses\n",
    "    text = re.sub(r'-(me|te|se|nos|vos|o|os|a|as|lo|los|la|las|lhe|lhes|lha|lhas|lho|lhos|no|na|nas|mo|ma|mos|mas|to|ta|tos|tas)', '', text) # remove pronouns at the end of the words\n",
    "    text = ' '.join([sentence for sentence in sent_tokenizer.tokenize(text) if len(sentence) > 15]) \n",
    "    text = re.sub('[%s]' % re.escape(string.punctuation), '', text) # remove punctuation\n",
    "    text = re.sub('[‘’“”«|»…]', '', text)\n",
    "    text = re.sub('\\w*\\d\\w*', '', text) # remove words containing numbers\n",
    "    text = ' '.join([word for word in text.split() if word not in stopwords]) # remove stopwords\n",
    "    text = ' '.join([word for word in text.split() if len(word) > 2]) # remove words with length <= 2\n",
    "    text = re.sub(r'Pág.*por pág$', '', text) # remove irrelevant text\n",
    "    text = ' '.join([word for word in text.split() if word not in irrelevant]) \n",
    "    #text = nlp(text)\n",
    "    #text = ' '.join([word.lemma for sent in text.sentences for word in sent.words]) \n",
    "\n",
    "    return text\n",
    "\n",
    "data_text_eda[\"content\"] = data_text_eda.content.apply(lambda x: clean_text(x))\n",
    "data_clean_eda = data_text_eda\n",
    "\n",
    "data_text[\"content\"] = data_text.content.apply(lambda x: clean_text(x))\n",
    "data_clean = data_text\n",
    "data_clean.head()"
   ]
  },
  {
   "cell_type": "code",
   "execution_count": 15,
   "metadata": {},
   "outputs": [
    {
     "data": {
      "text/plain": [
       "estigma    509\n",
       "literal    469\n",
       "Name: label, dtype: int64"
      ]
     },
     "execution_count": 15,
     "metadata": {},
     "output_type": "execute_result"
    }
   ],
   "source": [
    "# Count the number of vales in each of the two labels/categories\n",
    "\n",
    "data_clean['label'].value_counts()"
   ]
  },
  {
   "cell_type": "code",
   "execution_count": 16,
   "metadata": {},
   "outputs": [
    {
     "data": {
      "text/html": [
       "<div>\n",
       "<style scoped>\n",
       "    .dataframe tbody tr th:only-of-type {\n",
       "        vertical-align: middle;\n",
       "    }\n",
       "\n",
       "    .dataframe tbody tr th {\n",
       "        vertical-align: top;\n",
       "    }\n",
       "\n",
       "    .dataframe thead th {\n",
       "        text-align: right;\n",
       "    }\n",
       "</style>\n",
       "<table border=\"1\" class=\"dataframe\">\n",
       "  <thead>\n",
       "    <tr style=\"text-align: right;\">\n",
       "      <th></th>\n",
       "      <th>label</th>\n",
       "      <th>content</th>\n",
       "    </tr>\n",
       "  </thead>\n",
       "  <tbody>\n",
       "    <tr>\n",
       "      <th>0</th>\n",
       "      <td>0</td>\n",
       "      <td>prisão perpétua homem tentou assassinar senadora dia janeiro jared loughner tentou matar sucesso então senadora gabrielle giffords eleita partido ...</td>\n",
       "    </tr>\n",
       "    <tr>\n",
       "      <th>1</th>\n",
       "      <td>0</td>\n",
       "      <td>john nash matemático mente brilhante morre acidente john nash matemático nobel economia retratado russell crowe filme mente brilhante morreu sábad...</td>\n",
       "    </tr>\n",
       "    <tr>\n",
       "      <th>2</th>\n",
       "      <td>1</td>\n",
       "      <td>mito reeleição mínima garantida cavaco sairá desta campanha pior entrou casos acções sln casa férias algarve revelaram qualquer ilegalidade pudess...</td>\n",
       "    </tr>\n",
       "    <tr>\n",
       "      <th>3</th>\n",
       "      <td>0</td>\n",
       "      <td>morreu rita levintalcini grande dama ciência italiana cientista senadora italiana rita levintalcini prémio nobel medicina morreu neste domingo ano...</td>\n",
       "    </tr>\n",
       "    <tr>\n",
       "      <th>4</th>\n",
       "      <td>0</td>\n",
       "      <td>trás porta amarela homem problemas psicológicos ninguém sabe fazer ninguém sabe pensa come sobrevive dois anos desde mulher pânico levou dois filh...</td>\n",
       "    </tr>\n",
       "  </tbody>\n",
       "</table>\n",
       "</div>"
      ],
      "text/plain": [
       "   label  \\\n",
       "0      0   \n",
       "1      0   \n",
       "2      1   \n",
       "3      0   \n",
       "4      0   \n",
       "\n",
       "                                                                                                                                                 content  \n",
       "0  prisão perpétua homem tentou assassinar senadora dia janeiro jared loughner tentou matar sucesso então senadora gabrielle giffords eleita partido ...  \n",
       "1  john nash matemático mente brilhante morre acidente john nash matemático nobel economia retratado russell crowe filme mente brilhante morreu sábad...  \n",
       "2  mito reeleição mínima garantida cavaco sairá desta campanha pior entrou casos acções sln casa férias algarve revelaram qualquer ilegalidade pudess...  \n",
       "3  morreu rita levintalcini grande dama ciência italiana cientista senadora italiana rita levintalcini prémio nobel medicina morreu neste domingo ano...  \n",
       "4  trás porta amarela homem problemas psicológicos ninguém sabe fazer ninguém sabe pensa come sobrevive dois anos desde mulher pânico levou dois filh...  "
      ]
     },
     "execution_count": 16,
     "metadata": {},
     "output_type": "execute_result"
    }
   ],
   "source": [
    "# Associate label names with binary numerical values\n",
    "\n",
    "data_clean['label'] = data_clean['label'].factorize()[0]\n",
    "data_clean.head()"
   ]
  },
  {
   "cell_type": "code",
   "execution_count": 17,
   "metadata": {},
   "outputs": [
    {
     "data": {
      "text/plain": [
       "{'literal': 0, 'estigma': 1}"
      ]
     },
     "execution_count": 17,
     "metadata": {},
     "output_type": "execute_result"
    }
   ],
   "source": [
    "# Dictionary that stores label/index and index/label conversion\n",
    "\n",
    "index_to_label = {0: 'literal', 1: 'estigma'}\n",
    "label_to_index = {'literal': 0, 'estigma': 1}\n",
    "label_to_index"
   ]
  },
  {
   "cell_type": "code",
   "execution_count": 18,
   "metadata": {},
   "outputs": [
    {
     "data": {
      "text/html": [
       "<div>\n",
       "<style scoped>\n",
       "    .dataframe tbody tr th:only-of-type {\n",
       "        vertical-align: middle;\n",
       "    }\n",
       "\n",
       "    .dataframe tbody tr th {\n",
       "        vertical-align: top;\n",
       "    }\n",
       "\n",
       "    .dataframe thead th {\n",
       "        text-align: right;\n",
       "    }\n",
       "</style>\n",
       "<table border=\"1\" class=\"dataframe\">\n",
       "  <thead>\n",
       "    <tr style=\"text-align: right;\">\n",
       "      <th></th>\n",
       "      <th>ID</th>\n",
       "      <th>label</th>\n",
       "      <th>journal</th>\n",
       "      <th>journalTitle</th>\n",
       "      <th>content</th>\n",
       "      <th>authors</th>\n",
       "      <th>publishDate</th>\n",
       "      <th>archiveDate</th>\n",
       "      <th>linkToArchive</th>\n",
       "    </tr>\n",
       "  </thead>\n",
       "  <tbody>\n",
       "    <tr>\n",
       "      <th>0</th>\n",
       "      <td>0</td>\n",
       "      <td>literal</td>\n",
       "      <td>publico.pt</td>\n",
       "      <td>Público</td>\n",
       "      <td>dia janeiro jared loughner tentou matar sucesso então senadora gabrielle giffords eleita partido democrata arizona matou seis pessoas quase dois a...</td>\n",
       "      <td>[]</td>\n",
       "      <td>None</td>\n",
       "      <td>2012-12-30</td>\n",
       "      <td>https://arquivo.pt/wayback/20121230181331/http://publico.pt/mundo/noticia/homem-que-tentou-assassinar-senadora-norteamericana-condenado-a-sete-pri...</td>\n",
       "    </tr>\n",
       "    <tr>\n",
       "      <th>1</th>\n",
       "      <td>1</td>\n",
       "      <td>literal</td>\n",
       "      <td>publico.pt</td>\n",
       "      <td>Público</td>\n",
       "      <td>john nash matemático nobel economia retratado russell crowe filme mente brilhante morreu sábado acidente autoestrada nova jérsia nash anos mulher ...</td>\n",
       "      <td>[]</td>\n",
       "      <td>None</td>\n",
       "      <td>2016-01-17</td>\n",
       "      <td>https://arquivo.pt/wayback/20160117223452/http://publico.pt/economia/noticia/john-nash-matematico-de-uma-mente-brilhante-morre-em-acidente-1696715</td>\n",
       "    </tr>\n",
       "    <tr>\n",
       "      <th>2</th>\n",
       "      <td>2</td>\n",
       "      <td>estigma</td>\n",
       "      <td>publico.pt</td>\n",
       "      <td>Público</td>\n",
       "      <td>cavaco sairá desta campanha pior entrou casos acções sln casa férias algarve revelaram qualquer ilegalidade pudesse ser apontada ficou ruído estra...</td>\n",
       "      <td>['Nuno Ferreira Santos', 'Arquivo']</td>\n",
       "      <td>None</td>\n",
       "      <td>2011-01-21</td>\n",
       "      <td>https://arquivo.pt/wayback/20110121142608/http://publico.pt/Presidenciais2011/Noticias/Analise/o-mito-da-reeleicao-minima-garantida_1475944</td>\n",
       "    </tr>\n",
       "    <tr>\n",
       "      <th>3</th>\n",
       "      <td>3</td>\n",
       "      <td>literal</td>\n",
       "      <td>publico.pt</td>\n",
       "      <td>Público</td>\n",
       "      <td>cientista senadora italiana rita levintalcini prémio nobel medicina morreu neste domingo anos casa roma corpo faz quer corpo mente disse entrevist...</td>\n",
       "      <td>['Clara Barata']</td>\n",
       "      <td>None</td>\n",
       "      <td>2013-01-17</td>\n",
       "      <td>https://arquivo.pt/wayback/20130117170513/http://publico.pt/ciencia/noticia/morreu-rita-levimontalcini-a-grande-dama-da-ciencia-italiana-1579018</td>\n",
       "    </tr>\n",
       "    <tr>\n",
       "      <th>4</th>\n",
       "      <td>4</td>\n",
       "      <td>literal</td>\n",
       "      <td>publico.pt</td>\n",
       "      <td>Público</td>\n",
       "      <td>ninguém sabe fazer ninguém sabe pensa come sobrevive dois anos desde mulher pânico levou dois filhos deixou ali sozinho nunca falou ninguém alguns...</td>\n",
       "      <td>[]</td>\n",
       "      <td>None</td>\n",
       "      <td>2015-04-20</td>\n",
       "      <td>https://arquivo.pt/wayback/20150420143056/http://publico.pt/sociedade/noticia/por-tras-da-porta-amarela-ha-um-homem-com-problemas-psicologicos-166...</td>\n",
       "    </tr>\n",
       "  </tbody>\n",
       "</table>\n",
       "</div>"
      ],
      "text/plain": [
       "   ID    label     journal journalTitle  \\\n",
       "0   0  literal  publico.pt      Público   \n",
       "1   1  literal  publico.pt      Público   \n",
       "2   2  estigma  publico.pt      Público   \n",
       "3   3  literal  publico.pt      Público   \n",
       "4   4  literal  publico.pt      Público   \n",
       "\n",
       "                                                                                                                                                 content  \\\n",
       "0  dia janeiro jared loughner tentou matar sucesso então senadora gabrielle giffords eleita partido democrata arizona matou seis pessoas quase dois a...   \n",
       "1  john nash matemático nobel economia retratado russell crowe filme mente brilhante morreu sábado acidente autoestrada nova jérsia nash anos mulher ...   \n",
       "2  cavaco sairá desta campanha pior entrou casos acções sln casa férias algarve revelaram qualquer ilegalidade pudesse ser apontada ficou ruído estra...   \n",
       "3  cientista senadora italiana rita levintalcini prémio nobel medicina morreu neste domingo anos casa roma corpo faz quer corpo mente disse entrevist...   \n",
       "4  ninguém sabe fazer ninguém sabe pensa come sobrevive dois anos desde mulher pânico levou dois filhos deixou ali sozinho nunca falou ninguém alguns...   \n",
       "\n",
       "                               authors publishDate archiveDate  \\\n",
       "0                                   []        None  2012-12-30   \n",
       "1                                   []        None  2016-01-17   \n",
       "2  ['Nuno Ferreira Santos', 'Arquivo']        None  2011-01-21   \n",
       "3                     ['Clara Barata']        None  2013-01-17   \n",
       "4                                   []        None  2015-04-20   \n",
       "\n",
       "                                                                                                                                           linkToArchive  \n",
       "0  https://arquivo.pt/wayback/20121230181331/http://publico.pt/mundo/noticia/homem-que-tentou-assassinar-senadora-norteamericana-condenado-a-sete-pri...  \n",
       "1     https://arquivo.pt/wayback/20160117223452/http://publico.pt/economia/noticia/john-nash-matematico-de-uma-mente-brilhante-morre-em-acidente-1696715  \n",
       "2            https://arquivo.pt/wayback/20110121142608/http://publico.pt/Presidenciais2011/Noticias/Analise/o-mito-da-reeleicao-minima-garantida_1475944  \n",
       "3       https://arquivo.pt/wayback/20130117170513/http://publico.pt/ciencia/noticia/morreu-rita-levimontalcini-a-grande-dama-da-ciencia-italiana-1579018  \n",
       "4  https://arquivo.pt/wayback/20150420143056/http://publico.pt/sociedade/noticia/por-tras-da-porta-amarela-ha-um-homem-com-problemas-psicologicos-166...  "
      ]
     },
     "execution_count": 18,
     "metadata": {},
     "output_type": "execute_result"
    }
   ],
   "source": [
    "# Add a column with the journal title to the dataset for EDA\n",
    "\n",
    "data_clean_eda.insert(3, 'journalTitle', \"\")\n",
    "\n",
    "def add_journal_title(journal):\n",
    "\n",
    "    journal_title = \" \"\n",
    "     \n",
    "    if journal in [\"publico.pt\", \"www.publico.pt\", \"jornal.publico.pt\", \"dossiers.publico.pt\", \"desporto.publico.pt\", \"www.publico.clix.pt\", \"digital.publico.pt\", \"blogues.publico.pt\", \"economia.publico.pt\", \"m.publico.pt\", \"ultimahora.publico.pt\"]:\n",
    "        journal_title = \"Público\"\n",
    "    elif journal==\"observador.pt\": \n",
    "        journal_title = \"Observador\"\n",
    "    elif journal in [\"www.dn.pt\", \"dn.sapo.pt\", \"www.dn.sapo.pt\"]:\n",
    "        journal_title = \"Diário de Notícias\"\n",
    "    elif journal in [\"expresso.pt\", \"aeiou.expresso.pt\", \"expresso.sapo.pt\"]:\n",
    "        journal_title = \"Expresso\"\n",
    "    elif journal in [\"www.correiomanha.pt\", \"www.correiodamanha.pt\", \"www.cmjornal.xl.pt\", \"www.cmjornal.pt\"]:\n",
    "        journal_title = \"Correio da Manhã\"\n",
    "    elif journal in [\"www.jn.pt\", \"jn.pt\", \"jn.sapo.pt\"]:\n",
    "        journal_title = \"Jornal de Notícias\"\n",
    "    elif journal in [\"abola.pt\", \"www.abola.pt\", \"abola.pt:80\"]:\n",
    "        journal_title = \"A Bola\"\n",
    "    elif journal in [\"www.sabado.pt\", \"www.sabado.pt:80\", \"www.sabado.xl.pt\", \"www.sabado.xl.pt:80\", \"sabado.pt\"]:\n",
    "        journal_title = \"Sábado\"\n",
    "    elif journal in [\"visaoonline.clix.pt:80\", \"visao.clix.pt:80\", \"aeiou.visao.pt\", \"visao.sapo.pt\"]:\n",
    "        journal_title = \"Visão\"\n",
    "\n",
    "    return journal_title\n",
    "    \n",
    "data_clean_eda[\"journalTitle\"] = data_clean_eda.journal.apply(lambda x: add_journal_title(x))\n",
    "data_clean_eda.head()"
   ]
  },
  {
   "cell_type": "code",
   "execution_count": 19,
   "metadata": {},
   "outputs": [
    {
     "data": {
      "text/html": [
       "<div>\n",
       "<style scoped>\n",
       "    .dataframe tbody tr th:only-of-type {\n",
       "        vertical-align: middle;\n",
       "    }\n",
       "\n",
       "    .dataframe tbody tr th {\n",
       "        vertical-align: top;\n",
       "    }\n",
       "\n",
       "    .dataframe thead th {\n",
       "        text-align: right;\n",
       "    }\n",
       "</style>\n",
       "<table border=\"1\" class=\"dataframe\">\n",
       "  <thead>\n",
       "    <tr style=\"text-align: right;\">\n",
       "      <th></th>\n",
       "      <th>ID</th>\n",
       "      <th>label</th>\n",
       "      <th>journal</th>\n",
       "      <th>journalTitle</th>\n",
       "      <th>content</th>\n",
       "      <th>authors</th>\n",
       "      <th>publishDate</th>\n",
       "      <th>archiveDate</th>\n",
       "      <th>year</th>\n",
       "      <th>linkToArchive</th>\n",
       "    </tr>\n",
       "  </thead>\n",
       "  <tbody>\n",
       "    <tr>\n",
       "      <th>0</th>\n",
       "      <td>0</td>\n",
       "      <td>literal</td>\n",
       "      <td>publico.pt</td>\n",
       "      <td>Público</td>\n",
       "      <td>dia janeiro jared loughner tentou matar sucesso então senadora gabrielle giffords eleita partido democrata arizona matou seis pessoas quase dois a...</td>\n",
       "      <td>[]</td>\n",
       "      <td>None</td>\n",
       "      <td>2012-12-30</td>\n",
       "      <td>2012</td>\n",
       "      <td>https://arquivo.pt/wayback/20121230181331/http://publico.pt/mundo/noticia/homem-que-tentou-assassinar-senadora-norteamericana-condenado-a-sete-pri...</td>\n",
       "    </tr>\n",
       "    <tr>\n",
       "      <th>1</th>\n",
       "      <td>1</td>\n",
       "      <td>literal</td>\n",
       "      <td>publico.pt</td>\n",
       "      <td>Público</td>\n",
       "      <td>john nash matemático nobel economia retratado russell crowe filme mente brilhante morreu sábado acidente autoestrada nova jérsia nash anos mulher ...</td>\n",
       "      <td>[]</td>\n",
       "      <td>None</td>\n",
       "      <td>2016-01-17</td>\n",
       "      <td>2016</td>\n",
       "      <td>https://arquivo.pt/wayback/20160117223452/http://publico.pt/economia/noticia/john-nash-matematico-de-uma-mente-brilhante-morre-em-acidente-1696715</td>\n",
       "    </tr>\n",
       "    <tr>\n",
       "      <th>2</th>\n",
       "      <td>2</td>\n",
       "      <td>estigma</td>\n",
       "      <td>publico.pt</td>\n",
       "      <td>Público</td>\n",
       "      <td>cavaco sairá desta campanha pior entrou casos acções sln casa férias algarve revelaram qualquer ilegalidade pudesse ser apontada ficou ruído estra...</td>\n",
       "      <td>['Nuno Ferreira Santos', 'Arquivo']</td>\n",
       "      <td>None</td>\n",
       "      <td>2011-01-21</td>\n",
       "      <td>2011</td>\n",
       "      <td>https://arquivo.pt/wayback/20110121142608/http://publico.pt/Presidenciais2011/Noticias/Analise/o-mito-da-reeleicao-minima-garantida_1475944</td>\n",
       "    </tr>\n",
       "    <tr>\n",
       "      <th>3</th>\n",
       "      <td>3</td>\n",
       "      <td>literal</td>\n",
       "      <td>publico.pt</td>\n",
       "      <td>Público</td>\n",
       "      <td>cientista senadora italiana rita levintalcini prémio nobel medicina morreu neste domingo anos casa roma corpo faz quer corpo mente disse entrevist...</td>\n",
       "      <td>['Clara Barata']</td>\n",
       "      <td>None</td>\n",
       "      <td>2013-01-17</td>\n",
       "      <td>2013</td>\n",
       "      <td>https://arquivo.pt/wayback/20130117170513/http://publico.pt/ciencia/noticia/morreu-rita-levimontalcini-a-grande-dama-da-ciencia-italiana-1579018</td>\n",
       "    </tr>\n",
       "    <tr>\n",
       "      <th>4</th>\n",
       "      <td>4</td>\n",
       "      <td>literal</td>\n",
       "      <td>publico.pt</td>\n",
       "      <td>Público</td>\n",
       "      <td>ninguém sabe fazer ninguém sabe pensa come sobrevive dois anos desde mulher pânico levou dois filhos deixou ali sozinho nunca falou ninguém alguns...</td>\n",
       "      <td>[]</td>\n",
       "      <td>None</td>\n",
       "      <td>2015-04-20</td>\n",
       "      <td>2015</td>\n",
       "      <td>https://arquivo.pt/wayback/20150420143056/http://publico.pt/sociedade/noticia/por-tras-da-porta-amarela-ha-um-homem-com-problemas-psicologicos-166...</td>\n",
       "    </tr>\n",
       "  </tbody>\n",
       "</table>\n",
       "</div>"
      ],
      "text/plain": [
       "   ID    label     journal journalTitle  \\\n",
       "0   0  literal  publico.pt      Público   \n",
       "1   1  literal  publico.pt      Público   \n",
       "2   2  estigma  publico.pt      Público   \n",
       "3   3  literal  publico.pt      Público   \n",
       "4   4  literal  publico.pt      Público   \n",
       "\n",
       "                                                                                                                                                 content  \\\n",
       "0  dia janeiro jared loughner tentou matar sucesso então senadora gabrielle giffords eleita partido democrata arizona matou seis pessoas quase dois a...   \n",
       "1  john nash matemático nobel economia retratado russell crowe filme mente brilhante morreu sábado acidente autoestrada nova jérsia nash anos mulher ...   \n",
       "2  cavaco sairá desta campanha pior entrou casos acções sln casa férias algarve revelaram qualquer ilegalidade pudesse ser apontada ficou ruído estra...   \n",
       "3  cientista senadora italiana rita levintalcini prémio nobel medicina morreu neste domingo anos casa roma corpo faz quer corpo mente disse entrevist...   \n",
       "4  ninguém sabe fazer ninguém sabe pensa come sobrevive dois anos desde mulher pânico levou dois filhos deixou ali sozinho nunca falou ninguém alguns...   \n",
       "\n",
       "                               authors publishDate archiveDate  year  \\\n",
       "0                                   []        None  2012-12-30  2012   \n",
       "1                                   []        None  2016-01-17  2016   \n",
       "2  ['Nuno Ferreira Santos', 'Arquivo']        None  2011-01-21  2011   \n",
       "3                     ['Clara Barata']        None  2013-01-17  2013   \n",
       "4                                   []        None  2015-04-20  2015   \n",
       "\n",
       "                                                                                                                                           linkToArchive  \n",
       "0  https://arquivo.pt/wayback/20121230181331/http://publico.pt/mundo/noticia/homem-que-tentou-assassinar-senadora-norteamericana-condenado-a-sete-pri...  \n",
       "1     https://arquivo.pt/wayback/20160117223452/http://publico.pt/economia/noticia/john-nash-matematico-de-uma-mente-brilhante-morre-em-acidente-1696715  \n",
       "2            https://arquivo.pt/wayback/20110121142608/http://publico.pt/Presidenciais2011/Noticias/Analise/o-mito-da-reeleicao-minima-garantida_1475944  \n",
       "3       https://arquivo.pt/wayback/20130117170513/http://publico.pt/ciencia/noticia/morreu-rita-levimontalcini-a-grande-dama-da-ciencia-italiana-1579018  \n",
       "4  https://arquivo.pt/wayback/20150420143056/http://publico.pt/sociedade/noticia/por-tras-da-porta-amarela-ha-um-homem-com-problemas-psicologicos-166...  "
      ]
     },
     "execution_count": 19,
     "metadata": {},
     "output_type": "execute_result"
    }
   ],
   "source": [
    "# Add a column with the journal title in the datatable for EDA\n",
    "\n",
    "data_clean_eda.insert(8, 'year', \"\")\n",
    "\n",
    "\n",
    "def add_year(year):\n",
    "\n",
    "    new_year = \" \"\n",
    "     \n",
    "    if \"1996-\" in year: new_year=\"1996\"\n",
    "    elif \"1997-\" in year: new_year=\"1997\"\n",
    "    elif \"1998-\" in year: new_year=\"1998\"\n",
    "    elif \"1999-\" in year: new_year=\"1999\"\n",
    "    elif \"2000-\" in year: new_year=\"2000\"\n",
    "    elif \"2001-\" in year: new_year=\"2001\"\n",
    "    elif \"2002-\" in year: new_year=\"2002\"\n",
    "    elif \"2003-\" in year: new_year=\"2003\"\n",
    "    elif \"2004-\" in year: new_year=\"2004\"\n",
    "    elif \"2005-\" in year: new_year=\"2005\"\n",
    "    elif \"2006-\" in year: new_year=\"2006\"\n",
    "    elif \"2007-\" in year: new_year=\"2007\"\n",
    "    elif \"2008-\" in year: new_year=\"2008\"\n",
    "    elif \"2009-\" in year: new_year=\"2009\"\n",
    "    elif \"2010-\" in year: new_year=\"2010\"\n",
    "    elif \"2011-\" in year: new_year=\"2011\"\n",
    "    elif \"2012-\" in year: new_year=\"2012\"\n",
    "    elif \"2013-\" in year: new_year=\"2013\"\n",
    "    elif \"2014-\" in year: new_year=\"2014\"\n",
    "    elif \"2015-\" in year: new_year=\"2015\"\n",
    "    elif \"2016-\" in year: new_year=\"2016\"\n",
    "    elif \"2017-\" in year: new_year=\"2017\"\n",
    "    elif \"2018-\" in year: new_year=\"2018\"\n",
    "    elif \"2019-\" in year: new_year=\"2019\"\n",
    "    elif \"2020-\" in year: new_year=\"2020\"\n",
    "    elif \"2021-\" in year: new_year=\"2021\"\n",
    "\n",
    "    return new_year\n",
    "\n",
    "data_clean_eda[\"year\"] = data_clean_eda.archiveDate.apply(lambda x: add_year(x))\n",
    "data_clean_eda.head()"
   ]
  },
  {
   "cell_type": "code",
   "execution_count": 20,
   "metadata": {},
   "outputs": [],
   "source": [
    "# Store the cleaned and preprocessed data\n",
    "\n",
    "parent = os.path.dirname(os.getcwd())\n",
    "\n",
    "data_clean.to_pickle(parent+\"/2.classification/data_preprocessed.pkl\")\n",
    "data_clean.to_pickle(parent+\"/3.topic modeling/data_preprocessed_tm.pkl\")\n",
    "data_clean_eda.to_pickle(parent+\"/4.exploratory data analysis/data_preprocessed_eda.pkl\")"
   ]
  }
 ],
 "metadata": {
  "kernelspec": {
   "display_name": "Python 3 (ipykernel)",
   "language": "python",
   "name": "python3"
  },
  "language_info": {
   "codemirror_mode": {
    "name": "ipython",
    "version": 3
   },
   "file_extension": ".py",
   "mimetype": "text/x-python",
   "name": "python",
   "nbconvert_exporter": "python",
   "pygments_lexer": "ipython3",
   "version": "3.9.7"
  },
  "orig_nbformat": 2
 },
 "nbformat": 4,
 "nbformat_minor": 2
}
