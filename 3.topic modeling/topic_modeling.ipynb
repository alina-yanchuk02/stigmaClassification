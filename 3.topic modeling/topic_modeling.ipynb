{
 "cells": [
  {
   "cell_type": "markdown",
   "metadata": {},
   "source": [
    "Automatic classification of stigmatizing mental illness articles in online news journals - April 2022\n",
    "Author: Alina Yanchuk - alinayanchuk@ua.pt"
   ]
  },
  {
   "cell_type": "markdown",
   "metadata": {},
   "source": [
    "### Table of contents:\n",
    "\n",
    "* [4. Topic modeling](#chapter4)\n",
    "    * [4.1 Requirements](#section_4_1)\n",
    "    * [4.2 Imports](#section_4_2)\n",
    "    * [4.3 Get data](#section_4_3)\n",
    "    * [4.4 With top2vec](#section_4_4)"
   ]
  },
  {
   "cell_type": "markdown",
   "metadata": {},
   "source": [
    "# 4. Topic modeling <a class=\"anchor\" id=\"chapter4\"></a>"
   ]
  },
  {
   "cell_type": "markdown",
   "metadata": {},
   "source": [
    "Topic modeling is a machine learning technique (unsupervised) that automatically analyzes text data to determine cluster words (mapped to topics) for a set of documents.\n",
    "\n",
    "Top2Vec is an algorithm for topic modeling and semantic search. It automatically detects topics present in text and generates jointly embedded topic, document and word vectors. Some benefits: automatically finds number of topics, works on short text, doesn't ingore semantics.\n",
    "\n",
    "Note: execute with GPU.\n",
    "\n",
    "References: 1.https://github.com/ddangelov/Top2Vec "
   ]
  },
  {
   "cell_type": "markdown",
   "metadata": {},
   "source": [
    "## 4.1 Requirements <a class=\"anchor\" id=\"section_4_1\"></a>"
   ]
  },
  {
   "cell_type": "code",
   "execution_count": null,
   "metadata": {},
   "outputs": [],
   "source": [
    "pip install gensim==3.8.3"
   ]
  },
  {
   "cell_type": "code",
   "execution_count": null,
   "metadata": {},
   "outputs": [],
   "source": [
    "pip install top2vec"
   ]
  },
  {
   "cell_type": "markdown",
   "metadata": {},
   "source": [
    "## 4.2 Imports <a class=\"anchor\" id=\"section_4_2\"></a>"
   ]
  },
  {
   "cell_type": "code",
   "execution_count": 2,
   "metadata": {},
   "outputs": [
    {
     "name": "stderr",
     "output_type": "stream",
     "text": [
      "2022-04-24 23:04:08.867852: W tensorflow/stream_executor/platform/default/dso_loader.cc:64] Could not load dynamic library 'libcudart.so.11.0'; dlerror: libcudart.so.11.0: cannot open shared object file: No such file or directory\n",
      "2022-04-24 23:04:08.867959: I tensorflow/stream_executor/cuda/cudart_stub.cc:29] Ignore above cudart dlerror if you do not have a GPU set up on your machine.\n"
     ]
    }
   ],
   "source": [
    "import pandas as pd\n",
    "\n",
    "from top2vec import Top2Vec"
   ]
  },
  {
   "cell_type": "markdown",
   "metadata": {},
   "source": [
    "## 4.3 Get data <a class=\"anchor\" id=\"section_4_3\"></a>"
   ]
  },
  {
   "cell_type": "code",
   "execution_count": 3,
   "metadata": {},
   "outputs": [
    {
     "name": "stderr",
     "output_type": "stream",
     "text": [
      "2022-04-03 15:11:50.184689: W tensorflow/stream_executor/platform/default/dso_loader.cc:64] Could not load dynamic library 'libcudart.so.11.0'; dlerror: libcudart.so.11.0: cannot open shared object file: No such file or directory\n",
      "2022-04-03 15:11:50.184729: I tensorflow/stream_executor/cuda/cudart_stub.cc:29] Ignore above cudart dlerror if you do not have a GPU set up on your machine.\n"
     ]
    }
   ],
   "source": [
    "# top2vec doesn't need pre-processing, but we will still use the already cleaned dataset\n",
    "\n",
    "data = pd.read_pickle('data_preprocessed_tm.pkl')\n",
    "data.head()"
   ]
  },
  {
   "cell_type": "code",
   "execution_count": null,
   "metadata": {},
   "outputs": [],
   "source": [
    "# Create mapping index-document ID\n",
    "\n",
    "ids = {}\n",
    "for index in data.index:\n",
    "  ids[index] = data.iloc[index].ID"
   ]
  },
  {
   "cell_type": "code",
   "execution_count": 4,
   "metadata": {},
   "outputs": [
    {
     "data": {
      "text/html": [
       "<div>\n",
       "<style scoped>\n",
       "    .dataframe tbody tr th:only-of-type {\n",
       "        vertical-align: middle;\n",
       "    }\n",
       "\n",
       "    .dataframe tbody tr th {\n",
       "        vertical-align: top;\n",
       "    }\n",
       "\n",
       "    .dataframe thead th {\n",
       "        text-align: right;\n",
       "    }\n",
       "</style>\n",
       "<table border=\"1\" class=\"dataframe\">\n",
       "  <thead>\n",
       "    <tr style=\"text-align: right;\">\n",
       "      <th></th>\n",
       "      <th>label</th>\n",
       "      <th>content</th>\n",
       "    </tr>\n",
       "  </thead>\n",
       "  <tbody>\n",
       "    <tr>\n",
       "      <th>0</th>\n",
       "      <td>0</td>\n",
       "      <td>prisão perpétua homem tentou assassinar senado...</td>\n",
       "    </tr>\n",
       "    <tr>\n",
       "      <th>1</th>\n",
       "      <td>0</td>\n",
       "      <td>john nash matemático mente brilhante morre aci...</td>\n",
       "    </tr>\n",
       "    <tr>\n",
       "      <th>2</th>\n",
       "      <td>1</td>\n",
       "      <td>mito reeleição mínima garantida cavaco sairá d...</td>\n",
       "    </tr>\n",
       "    <tr>\n",
       "      <th>3</th>\n",
       "      <td>0</td>\n",
       "      <td>morreu rita levintalcini grande dama ciência i...</td>\n",
       "    </tr>\n",
       "    <tr>\n",
       "      <th>4</th>\n",
       "      <td>0</td>\n",
       "      <td>trás porta amarela homem problemas psicológico...</td>\n",
       "    </tr>\n",
       "  </tbody>\n",
       "</table>\n",
       "</div>"
      ],
      "text/plain": [
       "   label                                            content\n",
       "0      0  prisão perpétua homem tentou assassinar senado...\n",
       "1      0  john nash matemático mente brilhante morre aci...\n",
       "2      1  mito reeleição mínima garantida cavaco sairá d...\n",
       "3      0  morreu rita levintalcini grande dama ciência i...\n",
       "4      0  trás porta amarela homem problemas psicológico..."
      ]
     },
     "execution_count": 4,
     "metadata": {},
     "output_type": "execute_result"
    }
   ],
   "source": [
    "content = data.loc[:,'content']\n",
    "content.head()"
   ]
  },
  {
   "cell_type": "markdown",
   "metadata": {},
   "source": [
    "## 4.4 With top2vec <a class=\"anchor\" id=\"section_4_4\"></a>"
   ]
  },
  {
   "cell_type": "code",
   "execution_count": null,
   "metadata": {},
   "outputs": [],
   "source": [
    "# Convert dataset to list of strings\n",
    "\n",
    "documents = list(content.values.flatten())"
   ]
  },
  {
   "cell_type": "code",
   "execution_count": null,
   "metadata": {},
   "outputs": [],
   "source": [
    "# Train a Top2Vec model on our news dataset\n",
    "\n",
    "model = Top2Vec(documents, speed=\"learn\", workers=8)"
   ]
  },
  {
   "cell_type": "code",
   "execution_count": null,
   "metadata": {},
   "outputs": [],
   "source": [
    "# Total number of topics found\n",
    "\n",
    "total_topics = model.get_num_topics()\n",
    "\n",
    "print(\"Found: \"+str(total_topics)+\" topics.\")"
   ]
  },
  {
   "cell_type": "code",
   "execution_count": null,
   "metadata": {},
   "outputs": [],
   "source": [
    "# For each topic, the top 50 words are returned, in order of semantic similarity to the topic\n",
    "\n",
    "topic_words, word_scores, topic_nums = model.get_topics(total_topics)"
   ]
  },
  {
   "cell_type": "code",
   "execution_count": null,
   "metadata": {},
   "outputs": [],
   "source": [
    "# Wordcloud for each topic\n",
    "\n",
    "for topic in topic_nums:\n",
    "    model.generate_topic_wordcloud(topic)"
   ]
  },
  {
   "cell_type": "code",
   "execution_count": null,
   "metadata": {},
   "outputs": [],
   "source": [
    "# Number of documents in each topic\n",
    "\n",
    "topic_sizes, topic_nums = model.get_topic_sizes()\n",
    "for i in topic_nums:\n",
    "  print(\"Topic \"+str(i)+\" has \"+str(topic_sizes[i])+\" documents.\")"
   ]
  },
  {
   "cell_type": "code",
   "execution_count": null,
   "metadata": {},
   "outputs": [],
   "source": [
    "# Search documents by topic. Ordered by (decreasing) similarity.\n",
    "# Note: in every execution of this notebook, the topics retrieved may be slightly different. Adapt this part to your results.\n",
    "\n",
    "# Topic 0\n",
    "documents, document_scores, document_indexes = model.search_documents_by_topic(topic_num=0, num_docs=topic_sizes[0])\n",
    "documents_topic0 = []\n",
    "for index in document_indexes:\n",
    "  documents_topic0.append(ids.get(index))\n",
    "\n",
    "# Topic 1\n",
    "documents, document_scores, document_indexes = model.search_documents_by_topic(topic_num=1, num_docs=topic_sizes[1])\n",
    "documents_topic1 = []\n",
    "for index in document_indexes:\n",
    "  documents_topic1.append(ids.get(index))\n",
    "\n",
    "documents_topic1\n",
    "\n",
    "# Topic 2\n",
    "documents, document_scores, document_indexes = model.search_documents_by_topic(topic_num=2, num_docs=topic_sizes[2])\n",
    "documents_topic2 = []\n",
    "for index in document_indexes:\n",
    "  documents_topic2.append(ids.get(index))\n",
    "\n",
    "# Topic 3\n",
    "documents, document_scores, document_indexes = model.search_documents_by_topic(topic_num=3, num_docs=topic_sizes[3])\n",
    "documents_topic3 = []\n",
    "for index in document_indexes:\n",
    "  documents_topic3.append(ids.get(index))\n",
    "\n",
    "# Topic 4\n",
    "documents, document_scores, document_indexes = model.search_documents_by_topic(topic_num=4, num_docs=topic_sizes[4])\n",
    "documents_topic4 = []\n",
    "for index in document_indexes:\n",
    "  documents_topic4.append(ids.get(index))\n",
    "\n",
    "# Topic 5\n",
    "documents, document_scores, document_indexes = model.search_documents_by_topic(topic_num=5, num_docs=topic_sizes[5])\n",
    "documents_topic5 = []\n",
    "for index in document_indexes:\n",
    "  documents_topic5.append(ids.get(index))\n",
    "\n",
    "# Topic 6\n",
    "documents, document_scores, document_indexes = model.search_documents_by_topic(topic_num=6, num_docs=topic_sizes[6])\n",
    "documents_topic6 = []\n",
    "for index in document_indexes:\n",
    "  documents_topic6.append(ids.get(index))\n",
    "\n",
    "# Topic 7\n",
    "documents, document_scores, document_indexes = model.search_documents_by_topic(topic_num=7, num_docs=topic_sizes[7])\n",
    "documents_topic7 = []\n",
    "for index in document_indexes:\n",
    "  documents_topic7.append(ids.get(index))\n",
    "\n",
    "# Topic 8\n",
    "documents, document_scores, document_indexes = model.search_documents_by_topic(topic_num=8, num_docs=topic_sizes[8])\n",
    "documents_topic8 = []\n",
    "for index in document_indexes:\n",
    "  documents_topic8.append(ids.get(index))\n",
    "\n",
    "# Topic 9\n",
    "documents, document_scores, document_indexes = model.search_documents_by_topic(topic_num=9, num_docs=topic_sizes[9])\n",
    "documents_topic9 = []\n",
    "for index in document_indexes:\n",
    "  documents_topic9.append(ids.get(index))"
   ]
  },
  {
   "cell_type": "code",
   "execution_count": 8,
   "metadata": {},
   "outputs": [
    {
     "data": {
      "text/html": [
       "<div>\n",
       "<style scoped>\n",
       "    .dataframe tbody tr th:only-of-type {\n",
       "        vertical-align: middle;\n",
       "    }\n",
       "\n",
       "    .dataframe tbody tr th {\n",
       "        vertical-align: top;\n",
       "    }\n",
       "\n",
       "    .dataframe thead th {\n",
       "        text-align: right;\n",
       "    }\n",
       "</style>\n",
       "<table border=\"1\" class=\"dataframe\">\n",
       "  <thead>\n",
       "    <tr style=\"text-align: right;\">\n",
       "      <th></th>\n",
       "      <th>ID</th>\n",
       "      <th>label</th>\n",
       "      <th>journal</th>\n",
       "      <th>journalTitle</th>\n",
       "      <th>content</th>\n",
       "      <th>authors</th>\n",
       "      <th>publishDate</th>\n",
       "      <th>archiveDate</th>\n",
       "      <th>year</th>\n",
       "      <th>linkToArchive</th>\n",
       "      <th>topic</th>\n",
       "    </tr>\n",
       "  </thead>\n",
       "  <tbody>\n",
       "    <tr>\n",
       "      <th>0</th>\n",
       "      <td>0</td>\n",
       "      <td>literal</td>\n",
       "      <td>publico.pt</td>\n",
       "      <td>Público</td>\n",
       "      <td>dia janeiro jared loughner tentou matar sucess...</td>\n",
       "      <td>[]</td>\n",
       "      <td>None</td>\n",
       "      <td>2012-12-30</td>\n",
       "      <td>2012</td>\n",
       "      <td>https://arquivo.pt/wayback/20121230181331/http...</td>\n",
       "      <td></td>\n",
       "    </tr>\n",
       "    <tr>\n",
       "      <th>1</th>\n",
       "      <td>1</td>\n",
       "      <td>literal</td>\n",
       "      <td>publico.pt</td>\n",
       "      <td>Público</td>\n",
       "      <td>john nash matemático nobel economia retratado ...</td>\n",
       "      <td>[]</td>\n",
       "      <td>None</td>\n",
       "      <td>2016-01-17</td>\n",
       "      <td>2016</td>\n",
       "      <td>https://arquivo.pt/wayback/20160117223452/http...</td>\n",
       "      <td></td>\n",
       "    </tr>\n",
       "    <tr>\n",
       "      <th>2</th>\n",
       "      <td>2</td>\n",
       "      <td>estigma</td>\n",
       "      <td>publico.pt</td>\n",
       "      <td>Público</td>\n",
       "      <td>cavaco sairá desta campanha pior entrou casos ...</td>\n",
       "      <td>['Nuno Ferreira Santos', 'Arquivo']</td>\n",
       "      <td>None</td>\n",
       "      <td>2011-01-21</td>\n",
       "      <td>2011</td>\n",
       "      <td>https://arquivo.pt/wayback/20110121142608/http...</td>\n",
       "      <td></td>\n",
       "    </tr>\n",
       "    <tr>\n",
       "      <th>3</th>\n",
       "      <td>3</td>\n",
       "      <td>literal</td>\n",
       "      <td>publico.pt</td>\n",
       "      <td>Público</td>\n",
       "      <td>cientista senadora italiana rita levintalcini ...</td>\n",
       "      <td>['Clara Barata']</td>\n",
       "      <td>None</td>\n",
       "      <td>2013-01-17</td>\n",
       "      <td>2013</td>\n",
       "      <td>https://arquivo.pt/wayback/20130117170513/http...</td>\n",
       "      <td></td>\n",
       "    </tr>\n",
       "    <tr>\n",
       "      <th>4</th>\n",
       "      <td>4</td>\n",
       "      <td>literal</td>\n",
       "      <td>publico.pt</td>\n",
       "      <td>Público</td>\n",
       "      <td>ninguém sabe fazer ninguém sabe pensa come sob...</td>\n",
       "      <td>[]</td>\n",
       "      <td>None</td>\n",
       "      <td>2015-04-20</td>\n",
       "      <td>2015</td>\n",
       "      <td>https://arquivo.pt/wayback/20150420143056/http...</td>\n",
       "      <td></td>\n",
       "    </tr>\n",
       "  </tbody>\n",
       "</table>\n",
       "</div>"
      ],
      "text/plain": [
       "   ID    label     journal journalTitle  \\\n",
       "0   0  literal  publico.pt      Público   \n",
       "1   1  literal  publico.pt      Público   \n",
       "2   2  estigma  publico.pt      Público   \n",
       "3   3  literal  publico.pt      Público   \n",
       "4   4  literal  publico.pt      Público   \n",
       "\n",
       "                                             content  \\\n",
       "0  dia janeiro jared loughner tentou matar sucess...   \n",
       "1  john nash matemático nobel economia retratado ...   \n",
       "2  cavaco sairá desta campanha pior entrou casos ...   \n",
       "3  cientista senadora italiana rita levintalcini ...   \n",
       "4  ninguém sabe fazer ninguém sabe pensa come sob...   \n",
       "\n",
       "                               authors publishDate archiveDate  year  \\\n",
       "0                                   []        None  2012-12-30  2012   \n",
       "1                                   []        None  2016-01-17  2016   \n",
       "2  ['Nuno Ferreira Santos', 'Arquivo']        None  2011-01-21  2011   \n",
       "3                     ['Clara Barata']        None  2013-01-17  2013   \n",
       "4                                   []        None  2015-04-20  2015   \n",
       "\n",
       "                                       linkToArchive topic  \n",
       "0  https://arquivo.pt/wayback/20121230181331/http...        \n",
       "1  https://arquivo.pt/wayback/20160117223452/http...        \n",
       "2  https://arquivo.pt/wayback/20110121142608/http...        \n",
       "3  https://arquivo.pt/wayback/20130117170513/http...        \n",
       "4  https://arquivo.pt/wayback/20150420143056/http...        "
      ]
     },
     "execution_count": 8,
     "metadata": {},
     "output_type": "execute_result"
    }
   ],
   "source": [
    "# Add topics to EDA's file \n",
    "# Note: in every execution of this notebook, the topics retrieved may be slightly different. Adapt this part to your results.\n",
    "\n",
    "parent = os.path.dirname(os.getcwd())\n",
    "\n",
    "data_eda = pd.read_pickle(parent+'/4.exploratory data analysis/data_preprocessed_eda.pkl')\n",
    "data_eda.head()\n",
    "\n",
    "data_eda.insert(10, 'topic', \"\")\n",
    "\n",
    "def add_topics(id):\n",
    "\n",
    "    topic = \" \"\n",
    "     \n",
    "    if id in documents_topic0:\n",
    "      topic = \"Saúde\"\n",
    "    elif id in documents_topic1:\n",
    "      topic = \"Crime\"\n",
    "    elif id in documents_topic2:\n",
    "      topic = \"Cinema\"\n",
    "    elif id in documents_topic3:\n",
    "      topic = \"Economia\"\n",
    "    elif id in documents_topic4:\n",
    "      topic = \"Conflitos militares\"\n",
    "    elif id in documents_topic5:\n",
    "      topic = \"Política\"\n",
    "    elif id in documents_topic6:\n",
    "      topic = \"Literatura\"\n",
    "    elif id in documents_topic7:\n",
    "      topic = \"Música\"\n",
    "    elif id in documents_topic8:\n",
    "      topic = \"Desporto\"\n",
    "    elif id in documents_topic9:\n",
    "      topic = \"Justiça\"\n",
    "\n",
    "    return topic\n",
    "    \n",
    "data_eda[\"topic\"] = data_eda.ID.apply(lambda x: add_topics(x))\n",
    "data_eda.head()\n",
    "\n",
    "data_eda.to_pickle(parent+\"/4.exploratory data analysis/data_preprocessed_eda.pkl\")\n"
   ]
  }
 ],
 "metadata": {
  "kernelspec": {
   "display_name": "Python 3.9.7 64-bit ('stigma': conda)",
   "metadata": {
    "interpreter": {
     "hash": "4bb6a5a8d9de86797f248650fa8544a019a00d157c3095d36faee5c402c003b5"
    }
   },
   "name": "python3"
  },
  "language_info": {
   "codemirror_mode": {
    "name": "ipython",
    "version": 3
   },
   "file_extension": ".py",
   "mimetype": "text/x-python",
   "name": "python",
   "nbconvert_exporter": "python",
   "pygments_lexer": "ipython3",
   "version": "3.9.7"
  },
  "orig_nbformat": 2
 },
 "nbformat": 4,
 "nbformat_minor": 2
}
